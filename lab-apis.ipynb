{
 "cells": [
  {
   "cell_type": "markdown",
   "id": "27422808-8a16-4be1-897f-57b379af8991",
   "metadata": {},
   "source": [
    "# Lab | APIs"
   ]
  },
  {
   "cell_type": "markdown",
   "id": "50f30950-3e31-499a-92ea-1535422c570b",
   "metadata": {},
   "source": [
    "In order to use the `Spotify` API (`SpotiPy`), create an account in `Spotify` and follow [these](https://developer.spotify.com/documentation/general/guides/app-settings/) steps. "
   ]
  },
  {
   "cell_type": "markdown",
   "id": "a0479b95-6ca5-415e-b894-1f5cb17b055b",
   "metadata": {},
   "source": [
    "## Authentication and initializing the API"
   ]
  },
  {
   "cell_type": "markdown",
   "id": "47d71611-c617-4972-a0c3-7090c24b399c",
   "metadata": {},
   "source": [
    "Save your client ID and your client secret in your preferred way, and read it or load it into the following variables:"
   ]
  },
  {
   "cell_type": "code",
   "execution_count": null,
   "id": "ea44c82a-5c07-4dbc-beb2-bba2601bb75e",
   "metadata": {},
   "outputs": [],
   "source": [
    "CLIENT_ID = \"<introduce your client id>\"\n",
    "CLIENT_SECRET = \"<introduce your client secret>\""
   ]
  },
  {
   "cell_type": "code",
   "execution_count": null,
   "id": "319cfd4e-f6fb-4419-80e0-e3983cd25e43",
   "metadata": {},
   "outputs": [],
   "source": [
    "CLIENT_ID = \"4109b2d9f5014671863bb2df1d1fbdd3\"\n",
    "CLIENT_SECRET = \"5cb719fae80c4191a9c0b288f51bfe50\""
   ]
  },
  {
   "cell_type": "code",
   "execution_count": null,
   "id": "04e12954-fd70-4311-88a5-fb7e2c29799c",
   "metadata": {},
   "outputs": [],
   "source": [
    "# If you havent done so, install the spotipy wrapper\n",
    "!pip install spotipy"
   ]
  },
  {
   "cell_type": "markdown",
   "id": "dc0e86da-8846-4207-84c3-cd20b9e01d0e",
   "metadata": {},
   "source": [
    "Once you have done it, we will start initializing the API."
   ]
  },
  {
   "cell_type": "code",
   "execution_count": 28,
   "id": "03034bc6-9858-412a-83b7-18abdc345d7e",
   "metadata": {},
   "outputs": [],
   "source": [
    "import pandas as pd\n",
    "import spotipy\n",
    "from spotipy.oauth2 import SpotifyClientCredentials\n",
    "\n",
    "#Initialize SpotiPy with user credentials\n",
    "sp = spotipy.Spotify(auth_manager=SpotifyClientCredentials(client_id=CLIENT_ID,\n",
    "                                                           client_secret=CLIENT_SECRET))\n"
   ]
  },
  {
   "cell_type": "markdown",
   "id": "8fed9628-08d7-4290-a4be-5527696b01c5",
   "metadata": {},
   "source": [
    "## Using the search method"
   ]
  },
  {
   "cell_type": "markdown",
   "id": "6575a3c6-f25a-4905-b1f3-c0efd50dcc1e",
   "metadata": {},
   "source": [
    "Now, let's use the search method by introducing a \"query\". For example, let's try searching for \"Lady Gaga\":"
   ]
  },
  {
   "cell_type": "code",
   "execution_count": null,
   "id": "7772a1e0-9692-4d04-a590-76111a272d8d",
   "metadata": {
    "tags": []
   },
   "outputs": [],
   "source": [
    "results = sp.search(q='Lady Gaga', limit=50)\n",
    "results"
   ]
  },
  {
   "cell_type": "code",
   "execution_count": null,
   "id": "edc14c95-474b-4e2a-aea3-bdfd0a205546",
   "metadata": {},
   "outputs": [],
   "source": [
    "results.keys() # We can see that we only have tracks"
   ]
  },
  {
   "cell_type": "code",
   "execution_count": null,
   "id": "ad8ef934-1dbb-4008-ac8e-f5c29823fe6a",
   "metadata": {},
   "outputs": [],
   "source": [
    "results[\"tracks\"].keys() # Let's check the values"
   ]
  },
  {
   "cell_type": "code",
   "execution_count": null,
   "id": "004b7814-4dd5-408e-b7ba-1da87f9250cb",
   "metadata": {},
   "outputs": [],
   "source": [
    "results[\"tracks\"][\"href\"] # Query we have searched "
   ]
  },
  {
   "cell_type": "code",
   "execution_count": null,
   "id": "7285cedd-fbe1-47cf-98d5-a7fdc3e5c8b8",
   "metadata": {
    "scrolled": true,
    "tags": []
   },
   "outputs": [],
   "source": [
    "results[\"tracks\"][\"items\"] #items (actual tracks)"
   ]
  },
  {
   "cell_type": "code",
   "execution_count": null,
   "id": "529fff56-47d3-4d78-8ff5-9530fe290d1d",
   "metadata": {},
   "outputs": [],
   "source": [
    "results[\"tracks\"][\"limit\"]#Limit we have chosen"
   ]
  },
  {
   "cell_type": "code",
   "execution_count": null,
   "id": "92c64c57-3bd2-4d42-bbd1-84a040f1e02a",
   "metadata": {},
   "outputs": [],
   "source": [
    "results[\"tracks\"][\"next\"] #link to the next page (next 50 tracks)"
   ]
  },
  {
   "cell_type": "code",
   "execution_count": null,
   "id": "f5ccdf79-5d9e-40de-adb9-2cc1e5b7c74a",
   "metadata": {
    "tags": []
   },
   "outputs": [],
   "source": [
    "results[\"tracks\"][\"offset\"] # Actual offset (starting point)"
   ]
  },
  {
   "cell_type": "code",
   "execution_count": null,
   "id": "356730c1-60a2-4ea8-bd2c-e0522bab8a4d",
   "metadata": {},
   "outputs": [],
   "source": [
    "results[\"tracks\"][\"previous\"] #Previous search"
   ]
  },
  {
   "cell_type": "code",
   "execution_count": null,
   "id": "7c44c8fd-63ea-45ba-94bd-5c5e8e1458b3",
   "metadata": {},
   "outputs": [],
   "source": [
    "results[\"tracks\"][\"total\"] # Number of matches"
   ]
  },
  {
   "cell_type": "markdown",
   "id": "7a127c64-3274-4ecc-aa0f-83ae34af4655",
   "metadata": {},
   "source": [
    "## Exploring the tracks"
   ]
  },
  {
   "cell_type": "code",
   "execution_count": null,
   "id": "6c3541a2-0fd2-41e0-9b27-60a7dc36c4cb",
   "metadata": {
    "scrolled": true,
    "tags": []
   },
   "outputs": [],
   "source": [
    "results[\"tracks\"][\"items\"][0] # Explore the first song"
   ]
  },
  {
   "cell_type": "code",
   "execution_count": null,
   "id": "f2c35eb2-3ea6-4329-9f29-7c062f466638",
   "metadata": {},
   "outputs": [],
   "source": [
    "results[\"tracks\"][\"items\"][0].keys() # We will focus on album, artists, id, name, popularity, type and uri"
   ]
  },
  {
   "cell_type": "code",
   "execution_count": null,
   "id": "889ca3c3-b0c8-4037-96fb-6add847f537f",
   "metadata": {},
   "outputs": [],
   "source": [
    "# Track artists\n",
    "results[\"tracks\"][\"items\"][0][\"artists\"] "
   ]
  },
  {
   "cell_type": "code",
   "execution_count": null,
   "id": "a9c6a0b2-cea7-48ff-8c51-179d15388aa2",
   "metadata": {},
   "outputs": [],
   "source": [
    "# Track artists names\n",
    "for artist in results[\"tracks\"][\"items\"][0][\"artists\"]:\n",
    "    print(artist[\"name\"])"
   ]
  },
  {
   "cell_type": "code",
   "execution_count": null,
   "id": "6a826e9c-d2e7-4537-a82c-3dc3a2b80b9f",
   "metadata": {},
   "outputs": [],
   "source": [
    "# Track ID\n",
    "results[\"tracks\"][\"items\"][0][\"id\"] "
   ]
  },
  {
   "cell_type": "code",
   "execution_count": null,
   "id": "a5bd871b-6087-4680-819c-1a1d8ba879bc",
   "metadata": {},
   "outputs": [],
   "source": [
    "# Track name\n",
    "results[\"tracks\"][\"items\"][0][\"name\"] "
   ]
  },
  {
   "cell_type": "code",
   "execution_count": null,
   "id": "812661f1-29db-452f-a719-cdfbe95ba9f6",
   "metadata": {},
   "outputs": [],
   "source": [
    "# Popularity index\n",
    "results[\"tracks\"][\"items\"][0][\"popularity\"] "
   ]
  },
  {
   "cell_type": "markdown",
   "id": "0e81c762-e6c5-424e-a4eb-12ab45dffb9f",
   "metadata": {},
   "source": [
    "Spotify songs are identified by either a \"url\", a \"uri\", or an \"id\". \n",
    "\n",
    "- The `id` is an alphanumeric code, and it's the nuclear part of the identifier.\n",
    "\n",
    "- The `uri` contains \"spotify:track\" before the id. An uri is useful because it can be searched manually in the Spotify app.\n",
    "\n",
    "- The `url` is a link to the song on the Spotify web player.\n"
   ]
  },
  {
   "cell_type": "code",
   "execution_count": null,
   "id": "8bcdccfc-dde9-4f4b-8af5-3caa335b89b5",
   "metadata": {},
   "outputs": [],
   "source": [
    "results[\"tracks\"][\"items\"][0][\"uri\"]"
   ]
  },
  {
   "cell_type": "code",
   "execution_count": null,
   "id": "edea868e",
   "metadata": {},
   "outputs": [],
   "source": [
    "# Fetch top tracks for each artist\n",
    "# top_tracks_list = [get_top_tracks(artist) for artist in artists]\n",
    "\n",
    "# # Flatten the list of related artists\n",
    "# related_artists_flat = [artist for sublist in related_artists_list for artist in sublist]\n",
    "\n",
    "# # Remove duplicate artists\n",
    "# related_artists_unique = list(set(related_artists_flat))\n",
    "\n",
    "# # Combine top tracks of favorite artists and related artists\n",
    "# playlist_tracks = [get_top_tracks(artist) for artist in all_artists]\n",
    "\n",
    "# # Flatten the list of playlist tracks\n",
    "\n",
    "# # Create a DataFrame to visualize the playlist\n",
    "# playlist_df = pd.json_normalize({'Artist': all_artists * 5, 'Track': playlist_tracks_flat})\n",
    "\n",
    "# Display the playlist\n",
    "display(len(all_artists))\n",
    "\n"
   ]
  },
  {
   "cell_type": "markdown",
   "id": "71c3c9c1-4ec2-42bf-a243-b21105ae1699",
   "metadata": {},
   "source": [
    "## Exercise 1: Discovering New Music through Your Favorite Artists\n",
    "\n",
    "**Objective:** \n",
    "Uncover new music by exploring the top tracks of your favorite artists and their related artists.\n",
    "\n",
    "**Instructions:**\n",
    "\n",
    "1. **List Your Favorite Artists**:\n",
    "    - Make a list of your three favorite artists and store it in a variable named `artists`.\n",
    "    - Example: `artists = [\"Los Fabulosos Cadillacs\", \"Manu Chao\", \"Muchachito Bombo Infierno\"]`.\n",
    "\n",
    "2. **Fetch Top Tracks**:\n",
    "    - Write a function named `get_top_tracks`.\n",
    "    - This function should accept an artist's name and return the name of the first 5 top tracks by that artist.\n",
    "    - Use the function `get_top_tracks` to get the first 5 top tracks for each artist in your `artists` list and store the results in a new list named `top_tracks_list`.\n",
    "\n",
    "3. **Discover Related Artists**:\n",
    "    - Write a function named `find_related_artists`.\n",
    "    - This function should accept an artist's name and return the names of the first 5 artists related to the provided artist.\n",
    "    - Store the results in a list named `related_artists_list`.\n",
    "\n",
    "**Challenge:** \n",
    "Combine the above steps to create a playlist that includes the top tracks of your favorite artists and the top tracks of the artists related to them."
   ]
  },
  {
   "cell_type": "markdown",
   "id": "0c442378-e26f-47c8-b4f1-b4fa07089935",
   "metadata": {},
   "source": [
    "**Hint Section for 3. **Discover Related Artists**:**\n",
    "\n",
    "1. **Getting Artist ID**:\n",
    "    - Remember that every artist on Spotify has a unique identifier: their `id`. To get the related artists, you first need to fetch the ID of the given artist.\n",
    "    - Consider using the `sp.search` method to query the artist's name. The method requires a `q` parameter, which is your query (in this case, the artist's name). It also has a `limit` parameter, which specifies the number of tracks it returns. In this case, 1 track is enough, since we just want the artist ID. \n",
    "    - Each track in the results has an associated 'artists' field. This field is a list containing details about all artists involved in that track.\n",
    "   - For most tracks, especially those by a single artist, this list will contain one artist. From this artist's details, you can extract the 'id' field, which is the unique identifier for that artist on Spotify.\n",
    "\n",
    "\n",
    "3. **Fetching Related Artists**:\n",
    "    - Once you have the artist's ID, you can use another SpotiPy method to fetch related artists. Think about which SpotiPy method allows you to get related artists using an artist's ID. Here is the documentation link: https://spotipy.readthedocs.io/en/2.22.1/. \n",
    "    - This method will return a list of related artists. You'll need to extract the relevant details (artist names) from this list.\n",
    "\n",
    "4. **Iterating for Multiple Artists**:\n",
    "    - Once you have a function that returns related artists names for one artist, you can use a list comprehension to apply this function to a list of artist names.\n",
    "\n",
    "5. **Testing**:\n",
    "    - Always test your function with one artist name first. Once you're confident it works, then apply it to the entire list.\n",
    "\n",
    "Remember, the key is to break the problem down into manageable steps. Use the SpotiPy documentation as a resource to understand available methods and their return structures."
   ]
  },
  {
   "cell_type": "code",
   "execution_count": 46,
   "id": "29694252-f217-454d-8881-681b2b6eeb1e",
   "metadata": {},
   "outputs": [
    {
     "data": {
      "text/plain": [
       "['aline barros',\n",
       " 'marcela tais',\n",
       " 'rebeca nemer',\n",
       " ['Fernanda Brum', 'Eyshila', 'Cassiane', 'Bruna Karla', 'Diante do Trono'],\n",
       " ['Amanda Rodrigues',\n",
       "  'Deise Jacinto',\n",
       "  'Salomão',\n",
       "  'Daniela Araújo',\n",
       "  'Palankin'],\n",
       " ['Vaneyse',\n",
       "  'Jessyca Kids',\n",
       "  'Turminha da Naty',\n",
       "  'Garotada Feliz',\n",
       "  'Radicais Kids']]"
      ]
     },
     "metadata": {},
     "output_type": "display_data"
    }
   ],
   "source": [
    "\n",
    "\n",
    "# List of your favorite artists\n",
    "artists = [\"aline barros\", \"marcela tais\", \"rebeca nemer\"]\n",
    "\n",
    "# Function to fetch top tracks of an artist\n",
    "def get_top_tracks(artist):\n",
    "    result = sp.search(q=artist, limit=1, type='artist')\n",
    "    artist_id = result['artists']['items'][0]['id']\n",
    "    top_tracks = sp.artist_top_tracks(artist_id)\n",
    "    return [track['name'] for track in top_tracks['tracks'][:5]]\n",
    "\n",
    "\n",
    "\n",
    "# # Function to find related artists\n",
    "def find_related_artists(artist):\n",
    "    result = sp.search(q=artist, limit=1, type='artist')\n",
    "    artist_id = result['artists']['items'][0]['id']\n",
    "    related_artists = sp.artist_related_artists(artist_id)\n",
    "    return [related_artist['name'] for related_artist in related_artists['artists'][:5]]\n",
    "\n",
    "# # Find related artists for each artist\n",
    "related_artists_list = [find_related_artists(artist) for artist in artists]\n",
    "\n"
   ]
  },
  {
   "cell_type": "code",
   "execution_count": 58,
   "id": "eb1dc39b",
   "metadata": {},
   "outputs": [
    {
     "data": {
      "text/html": [
       "<div>\n",
       "<style scoped>\n",
       "    .dataframe tbody tr th:only-of-type {\n",
       "        vertical-align: middle;\n",
       "    }\n",
       "\n",
       "    .dataframe tbody tr th {\n",
       "        vertical-align: top;\n",
       "    }\n",
       "\n",
       "    .dataframe thead th {\n",
       "        text-align: right;\n",
       "    }\n",
       "</style>\n",
       "<table border=\"1\" class=\"dataframe\">\n",
       "  <thead>\n",
       "    <tr style=\"text-align: right;\">\n",
       "      <th></th>\n",
       "      <th>Artist</th>\n",
       "      <th>Track</th>\n",
       "    </tr>\n",
       "  </thead>\n",
       "  <tbody>\n",
       "    <tr>\n",
       "      <th>0</th>\n",
       "      <td>[aline barros, marcela tais, rebeca nemer, Fer...</td>\n",
       "      <td>[Vasos Vacíos - Remasterizado 2008, El Matador...</td>\n",
       "    </tr>\n",
       "  </tbody>\n",
       "</table>\n",
       "</div>"
      ],
      "text/plain": [
       "                                              Artist  \\\n",
       "0  [aline barros, marcela tais, rebeca nemer, Fer...   \n",
       "\n",
       "                                               Track  \n",
       "0  [Vasos Vacíos - Remasterizado 2008, El Matador...  "
      ]
     },
     "metadata": {},
     "output_type": "display_data"
    }
   ],
   "source": [
    "\n",
    "# # Combine top tracks of favorite artists and related artists\n",
    "related_artists_cb = [artist for sublist in related_artists_list for artist in sublist]\n",
    "\n",
    "all_artists = artists + related_artists_cb\n",
    "\n",
    "playlist_tracks = [get_top_tracks(artist) for artist in all_artists]\n",
    "\n",
    "# # Flatten the list of playlist tracks\n",
    "playlist_tracks_cb = [track for sublist in playlist_tracks for track in sublist]\n",
    "\n",
    "# # Create a DataFrame to visualize the playlist\n",
    "playlist_df = pd.json_normalize({'Artist': all_artists, 'Track': playlist_tracks_flat})\n",
    "\n",
    "# Display the playlist\n",
    "display(playlist_df)\n",
    "\n"
   ]
  },
  {
   "cell_type": "markdown",
   "id": "94ad5fdc-22e5-4521-8aa1-c6833eb7e949",
   "metadata": {},
   "source": [
    "## Playlists\n",
    "\n",
    "The `sp.featured_playlists()` method in `spotipy` fetches a list of Spotify's featured playlists at a given moment. These are curated playlists that Spotify often highlights on the platform's homepage. The method provides a snapshot of the playlists that are being promoted or featured by Spotify at the time of the request.\n",
    "\n",
    "Once you've fetched the featured playlists, you can extract their IDs (and other details)."
   ]
  },
  {
   "cell_type": "code",
   "execution_count": 60,
   "id": "25fb0cf8-c13a-41b0-b8f8-7e0700fd1e41",
   "metadata": {},
   "outputs": [
    {
     "data": {
      "text/plain": [
       "{'message': 'Popular Playlists',\n",
       " 'playlists': {'href': 'https://api.spotify.com/v1/browse/featured-playlists?offset=0&limit=20',\n",
       "  'items': [{'collaborative': False,\n",
       "    'description': 'New music from Kendrick Lamar, Drake and Gunna. ',\n",
       "    'external_urls': {'spotify': 'https://open.spotify.com/playlist/37i9dQZF1DX0XUsuxWHRQd'},\n",
       "    'href': 'https://api.spotify.com/v1/playlists/37i9dQZF1DX0XUsuxWHRQd',\n",
       "    'id': '37i9dQZF1DX0XUsuxWHRQd',\n",
       "    'images': [{'height': None,\n",
       "      'url': 'https://i.scdn.co/image/ab67706f000000024edd81d62026c1d2ca9e1777',\n",
       "      'width': None}],\n",
       "    'name': 'RapCaviar',\n",
       "    'owner': {'display_name': 'Spotify',\n",
       "     'external_urls': {'spotify': 'https://open.spotify.com/user/spotify'},\n",
       "     'href': 'https://api.spotify.com/v1/users/spotify',\n",
       "     'id': 'spotify',\n",
       "     'type': 'user',\n",
       "     'uri': 'spotify:user:spotify'},\n",
       "    'primary_color': '#F49B23',\n",
       "    'public': True,\n",
       "    'snapshot_id': 'ZjxKQAAAAACJQee4sv8rnJzl6VC8JLfh',\n",
       "    'tracks': {'href': 'https://api.spotify.com/v1/playlists/37i9dQZF1DX0XUsuxWHRQd/tracks',\n",
       "     'total': 51},\n",
       "    'type': 'playlist',\n",
       "    'uri': 'spotify:playlist:37i9dQZF1DX0XUsuxWHRQd'},\n",
       "   {'collaborative': False,\n",
       "    'description': 'Sabrina Carpenter is on top of the Hottest 50!',\n",
       "    'external_urls': {'spotify': 'https://open.spotify.com/playlist/37i9dQZF1DXcBWIGoYBM5M'},\n",
       "    'href': 'https://api.spotify.com/v1/playlists/37i9dQZF1DXcBWIGoYBM5M',\n",
       "    'id': '37i9dQZF1DXcBWIGoYBM5M',\n",
       "    'images': [{'height': None,\n",
       "      'url': 'https://i.scdn.co/image/ab67706f00000002999bbd54a3ce28d4364a4acd',\n",
       "      'width': None}],\n",
       "    'name': 'Today’s Top Hits',\n",
       "    'owner': {'display_name': 'Spotify',\n",
       "     'external_urls': {'spotify': 'https://open.spotify.com/user/spotify'},\n",
       "     'href': 'https://api.spotify.com/v1/users/spotify',\n",
       "     'id': 'spotify',\n",
       "     'type': 'user',\n",
       "     'uri': 'spotify:user:spotify'},\n",
       "    'primary_color': '#FFFFFF',\n",
       "    'public': True,\n",
       "    'snapshot_id': 'Zjl7OAAAAAC8RcbHF0hq+/3y68BPZ2JI',\n",
       "    'tracks': {'href': 'https://api.spotify.com/v1/playlists/37i9dQZF1DXcBWIGoYBM5M/tracks',\n",
       "     'total': 50},\n",
       "    'type': 'playlist',\n",
       "    'uri': 'spotify:playlist:37i9dQZF1DXcBWIGoYBM5M'},\n",
       "   {'collaborative': False,\n",
       "    'description': \"Today's top country hits. Cover: Miranda Lambert\",\n",
       "    'external_urls': {'spotify': 'https://open.spotify.com/playlist/37i9dQZF1DX1lVhptIYRda'},\n",
       "    'href': 'https://api.spotify.com/v1/playlists/37i9dQZF1DX1lVhptIYRda',\n",
       "    'id': '37i9dQZF1DX1lVhptIYRda',\n",
       "    'images': [{'height': None,\n",
       "      'url': 'https://i.scdn.co/image/ab67706f00000002c258d186cae5c1ab2ebf98b4',\n",
       "      'width': None}],\n",
       "    'name': 'Hot Country',\n",
       "    'owner': {'display_name': 'Spotify',\n",
       "     'external_urls': {'spotify': 'https://open.spotify.com/user/spotify'},\n",
       "     'href': 'https://api.spotify.com/v1/users/spotify',\n",
       "     'id': 'spotify',\n",
       "     'type': 'user',\n",
       "     'uri': 'spotify:user:spotify'},\n",
       "    'primary_color': '#FFC864',\n",
       "    'public': True,\n",
       "    'snapshot_id': 'ZjRhQAAAAACXbsTReuWiE4IVwSSBi46F',\n",
       "    'tracks': {'href': 'https://api.spotify.com/v1/playlists/37i9dQZF1DX1lVhptIYRda/tracks',\n",
       "     'total': 50},\n",
       "    'type': 'playlist',\n",
       "    'uri': 'spotify:playlist:37i9dQZF1DX1lVhptIYRda'},\n",
       "   {'collaborative': False,\n",
       "    'description': 'The hottest tracks in the United States. Cover: Taylor Swift',\n",
       "    'external_urls': {'spotify': 'https://open.spotify.com/playlist/37i9dQZF1DX0kbJZpiYdZl'},\n",
       "    'href': 'https://api.spotify.com/v1/playlists/37i9dQZF1DX0kbJZpiYdZl',\n",
       "    'id': '37i9dQZF1DX0kbJZpiYdZl',\n",
       "    'images': [{'height': None,\n",
       "      'url': 'https://i.scdn.co/image/ab67706f00000002302ccd2fef27551e48922346',\n",
       "      'width': None}],\n",
       "    'name': 'Hot Hits USA',\n",
       "    'owner': {'display_name': 'Spotify',\n",
       "     'external_urls': {'spotify': 'https://open.spotify.com/user/spotify'},\n",
       "     'href': 'https://api.spotify.com/v1/users/spotify',\n",
       "     'id': 'spotify',\n",
       "     'type': 'user',\n",
       "     'uri': 'spotify:user:spotify'},\n",
       "    'primary_color': '#FFFFFF',\n",
       "    'public': True,\n",
       "    'snapshot_id': 'Zjun4wAAAAD6ymqOu7uWp3fUBP09AFoO',\n",
       "    'tracks': {'href': 'https://api.spotify.com/v1/playlists/37i9dQZF1DX0kbJZpiYdZl/tracks',\n",
       "     'total': 50},\n",
       "    'type': 'playlist',\n",
       "    'uri': 'spotify:playlist:37i9dQZF1DX0kbJZpiYdZl'},\n",
       "   {'collaborative': False,\n",
       "    'description': 'The essential tracks, all in one playlist.',\n",
       "    'external_urls': {'spotify': 'https://open.spotify.com/playlist/37i9dQZF1DX5KpP2LN299J'},\n",
       "    'href': 'https://api.spotify.com/v1/playlists/37i9dQZF1DX5KpP2LN299J',\n",
       "    'id': '37i9dQZF1DX5KpP2LN299J',\n",
       "    'images': [{'height': None,\n",
       "      'url': 'https://i.scdn.co/image/ab67706f0000000252feef11af8c9d412769ec5a',\n",
       "      'width': None}],\n",
       "    'name': 'This Is Taylor Swift',\n",
       "    'owner': {'display_name': 'Spotify',\n",
       "     'external_urls': {'spotify': 'https://open.spotify.com/user/spotify'},\n",
       "     'href': 'https://api.spotify.com/v1/users/spotify',\n",
       "     'id': 'spotify',\n",
       "     'type': 'user',\n",
       "     'uri': 'spotify:user:spotify'},\n",
       "    'primary_color': '#FFFFFF',\n",
       "    'public': True,\n",
       "    'snapshot_id': 'ZiIIYAAAAADfdTt2d6pWLjmpT5VXzMYO',\n",
       "    'tracks': {'href': 'https://api.spotify.com/v1/playlists/37i9dQZF1DX5KpP2LN299J/tracks',\n",
       "     'total': 180},\n",
       "    'type': 'playlist',\n",
       "    'uri': 'spotify:playlist:37i9dQZF1DX5KpP2LN299J'},\n",
       "   {'collaborative': False,\n",
       "    'description': \"Today's top Latin hits, elevando nuestra música. Cover: Danny Ocean\",\n",
       "    'external_urls': {'spotify': 'https://open.spotify.com/playlist/37i9dQZF1DX10zKzsJ2jva'},\n",
       "    'href': 'https://api.spotify.com/v1/playlists/37i9dQZF1DX10zKzsJ2jva',\n",
       "    'id': '37i9dQZF1DX10zKzsJ2jva',\n",
       "    'images': [{'height': None,\n",
       "      'url': 'https://i.scdn.co/image/ab67706f00000002b4e674fbf32ea1b6acaf2e06',\n",
       "      'width': None}],\n",
       "    'name': 'Viva Latino',\n",
       "    'owner': {'display_name': 'Spotify',\n",
       "     'external_urls': {'spotify': 'https://open.spotify.com/user/spotify'},\n",
       "     'href': 'https://api.spotify.com/v1/users/spotify',\n",
       "     'id': 'spotify',\n",
       "     'type': 'user',\n",
       "     'uri': 'spotify:user:spotify'},\n",
       "    'primary_color': '#FFFFFF',\n",
       "    'public': True,\n",
       "    'snapshot_id': 'ZjsG0AAAAAAxcn5o+3Fmm2NOeZR0/1jO',\n",
       "    'tracks': {'href': 'https://api.spotify.com/v1/playlists/37i9dQZF1DX10zKzsJ2jva/tracks',\n",
       "     'total': 51},\n",
       "    'type': 'playlist',\n",
       "    'uri': 'spotify:playlist:37i9dQZF1DX10zKzsJ2jva'},\n",
       "   {'collaborative': False,\n",
       "    'description': 'Gentle Ambient piano to help you fall asleep. ',\n",
       "    'external_urls': {'spotify': 'https://open.spotify.com/playlist/37i9dQZF1DWZd79rJ6a7lp'},\n",
       "    'href': 'https://api.spotify.com/v1/playlists/37i9dQZF1DWZd79rJ6a7lp',\n",
       "    'id': '37i9dQZF1DWZd79rJ6a7lp',\n",
       "    'images': [{'height': None,\n",
       "      'url': 'https://i.scdn.co/image/ab67706f0000000281722192322800ae99c2ed06',\n",
       "      'width': None}],\n",
       "    'name': 'Sleep',\n",
       "    'owner': {'display_name': 'Spotify',\n",
       "     'external_urls': {'spotify': 'https://open.spotify.com/user/spotify'},\n",
       "     'href': 'https://api.spotify.com/v1/users/spotify',\n",
       "     'id': 'spotify',\n",
       "     'type': 'user',\n",
       "     'uri': 'spotify:user:spotify'},\n",
       "    'primary_color': '#ffffff',\n",
       "    'public': True,\n",
       "    'snapshot_id': 'ZjY1dwAAAABk5cm5aXOiD9dkc/0MWOqI',\n",
       "    'tracks': {'href': 'https://api.spotify.com/v1/playlists/37i9dQZF1DWZd79rJ6a7lp/tracks',\n",
       "     'total': 188},\n",
       "    'type': 'playlist',\n",
       "    'uri': 'spotify:playlist:37i9dQZF1DWZd79rJ6a7lp'},\n",
       "   {'collaborative': False,\n",
       "    'description': 'New music from Dua Lipa, Kendrick Lamar, WILLOW, Gracie Abrams, and more!',\n",
       "    'external_urls': {'spotify': 'https://open.spotify.com/playlist/37i9dQZF1DX4JAvHpjipBk'},\n",
       "    'href': 'https://api.spotify.com/v1/playlists/37i9dQZF1DX4JAvHpjipBk',\n",
       "    'id': '37i9dQZF1DX4JAvHpjipBk',\n",
       "    'images': [{'height': None,\n",
       "      'url': 'https://i.scdn.co/image/ab67706f0000000251f031edae01dbd304e8fb95',\n",
       "      'width': None}],\n",
       "    'name': 'New Music Friday',\n",
       "    'owner': {'display_name': 'Spotify',\n",
       "     'external_urls': {'spotify': 'https://open.spotify.com/user/spotify'},\n",
       "     'href': 'https://api.spotify.com/v1/users/spotify',\n",
       "     'id': 'spotify',\n",
       "     'type': 'user',\n",
       "     'uri': 'spotify:user:spotify'},\n",
       "    'primary_color': '#FFFFFF',\n",
       "    'public': True,\n",
       "    'snapshot_id': 'ZjRhbQAAAABDy//ABaORfNurA4NkSvff',\n",
       "    'tracks': {'href': 'https://api.spotify.com/v1/playlists/37i9dQZF1DX4JAvHpjipBk/tracks',\n",
       "     'total': 100},\n",
       "    'type': 'playlist',\n",
       "    'uri': 'spotify:playlist:37i9dQZF1DX4JAvHpjipBk'},\n",
       "   {'collaborative': False,\n",
       "    'description': 'All your favorite Disney hits, including songs from Wish.',\n",
       "    'external_urls': {'spotify': 'https://open.spotify.com/playlist/37i9dQZF1DX8C9xQcOrE6T'},\n",
       "    'href': 'https://api.spotify.com/v1/playlists/37i9dQZF1DX8C9xQcOrE6T',\n",
       "    'id': '37i9dQZF1DX8C9xQcOrE6T',\n",
       "    'images': [{'height': None,\n",
       "      'url': 'https://i.scdn.co/image/ab67706f00000002e8ddfe0d683db1adf720d148',\n",
       "      'width': None}],\n",
       "    'name': 'Disney Hits',\n",
       "    'owner': {'display_name': 'Spotify',\n",
       "     'external_urls': {'spotify': 'https://open.spotify.com/user/spotify'},\n",
       "     'href': 'https://api.spotify.com/v1/users/spotify',\n",
       "     'id': 'spotify',\n",
       "     'type': 'user',\n",
       "     'uri': 'spotify:user:spotify'},\n",
       "    'primary_color': '#ffffff',\n",
       "    'public': True,\n",
       "    'snapshot_id': 'ZjE6gwAAAACcYR2I6pt55jQvyGUsg4At',\n",
       "    'tracks': {'href': 'https://api.spotify.com/v1/playlists/37i9dQZF1DX8C9xQcOrE6T/tracks',\n",
       "     'total': 144},\n",
       "    'type': 'playlist',\n",
       "    'uri': 'spotify:playlist:37i9dQZF1DX8C9xQcOrE6T'},\n",
       "   {'collaborative': False,\n",
       "    'description': 'Ten hours long continuous white noise to help you relax and let go. ',\n",
       "    'external_urls': {'spotify': 'https://open.spotify.com/playlist/37i9dQZF1DWUZ5bk6qqDSy'},\n",
       "    'href': 'https://api.spotify.com/v1/playlists/37i9dQZF1DWUZ5bk6qqDSy',\n",
       "    'id': '37i9dQZF1DWUZ5bk6qqDSy',\n",
       "    'images': [{'height': None,\n",
       "      'url': 'https://i.scdn.co/image/ab67706f00000002e3c324443862abeb46220f00',\n",
       "      'width': None}],\n",
       "    'name': 'White Noise 10 Hours',\n",
       "    'owner': {'display_name': 'Spotify',\n",
       "     'external_urls': {'spotify': 'https://open.spotify.com/user/spotify'},\n",
       "     'href': 'https://api.spotify.com/v1/users/spotify',\n",
       "     'id': 'spotify',\n",
       "     'type': 'user',\n",
       "     'uri': 'spotify:user:spotify'},\n",
       "    'primary_color': '#ffffff',\n",
       "    'public': True,\n",
       "    'snapshot_id': 'Zh1O4gAAAAACa4k38WcXi3OSmjn5TZqo',\n",
       "    'tracks': {'href': 'https://api.spotify.com/v1/playlists/37i9dQZF1DWUZ5bk6qqDSy/tracks',\n",
       "     'total': 214},\n",
       "    'type': 'playlist',\n",
       "    'uri': 'spotify:playlist:37i9dQZF1DWUZ5bk6qqDSy'},\n",
       "   {'collaborative': False,\n",
       "    'description': 'This is Kendrick Lamar. The essential tracks, all in one playlist.',\n",
       "    'external_urls': {'spotify': 'https://open.spotify.com/playlist/37i9dQZF1DZ06evO1IPOOk'},\n",
       "    'href': 'https://api.spotify.com/v1/playlists/37i9dQZF1DZ06evO1IPOOk',\n",
       "    'id': '37i9dQZF1DZ06evO1IPOOk',\n",
       "    'images': [{'height': None,\n",
       "      'url': 'https://thisis-images.spotifycdn.com/37i9dQZF1DZ06evO1IPOOk-default.jpg',\n",
       "      'width': None}],\n",
       "    'name': 'This Is Kendrick Lamar',\n",
       "    'owner': {'display_name': 'Spotify',\n",
       "     'external_urls': {'spotify': 'https://open.spotify.com/user/spotify'},\n",
       "     'href': 'https://api.spotify.com/v1/users/spotify',\n",
       "     'id': 'spotify',\n",
       "     'type': 'user',\n",
       "     'uri': 'spotify:user:spotify'},\n",
       "    'primary_color': None,\n",
       "    'public': True,\n",
       "    'snapshot_id': 'ZjlvAAAAAACHeuEe+AKkVCpy54vd9u0N',\n",
       "    'tracks': {'href': 'https://api.spotify.com/v1/playlists/37i9dQZF1DZ06evO1IPOOk/tracks',\n",
       "     'total': 50},\n",
       "    'type': 'playlist',\n",
       "    'uri': 'spotify:playlist:37i9dQZF1DZ06evO1IPOOk'},\n",
       "   {'collaborative': False,\n",
       "    'description': \"The hip-hop playlist that's a whole mood. Art By Laci Jordan; Cover: Cardi B\",\n",
       "    'external_urls': {'spotify': 'https://open.spotify.com/playlist/37i9dQZF1DX6GwdWRQMQpq'},\n",
       "    'href': 'https://api.spotify.com/v1/playlists/37i9dQZF1DX6GwdWRQMQpq',\n",
       "    'id': '37i9dQZF1DX6GwdWRQMQpq',\n",
       "    'images': [{'height': None,\n",
       "      'url': 'https://i.scdn.co/image/ab67706f00000002adaabbc27745c430ef9e7f4b',\n",
       "      'width': None}],\n",
       "    'name': \"Feelin' Myself\",\n",
       "    'owner': {'display_name': 'Spotify',\n",
       "     'external_urls': {'spotify': 'https://open.spotify.com/user/spotify'},\n",
       "     'href': 'https://api.spotify.com/v1/users/spotify',\n",
       "     'id': 'spotify',\n",
       "     'type': 'user',\n",
       "     'uri': 'spotify:user:spotify'},\n",
       "    'primary_color': '#FFFFFF',\n",
       "    'public': True,\n",
       "    'snapshot_id': 'Zjl/6gAAAABh+Se00L7qr2FOUnSliosr',\n",
       "    'tracks': {'href': 'https://api.spotify.com/v1/playlists/37i9dQZF1DX6GwdWRQMQpq/tracks',\n",
       "     'total': 50},\n",
       "    'type': 'playlist',\n",
       "    'uri': 'spotify:playlist:37i9dQZF1DX6GwdWRQMQpq'},\n",
       "   {'collaborative': False,\n",
       "    'description': \"Country music's 50 most played songs in the world. Updated weekly. Cover: Morgan Wallen\",\n",
       "    'external_urls': {'spotify': 'https://open.spotify.com/playlist/37i9dQZF1DX7aUUBCKwo4Y'},\n",
       "    'href': 'https://api.spotify.com/v1/playlists/37i9dQZF1DX7aUUBCKwo4Y',\n",
       "    'id': '37i9dQZF1DX7aUUBCKwo4Y',\n",
       "    'images': [{'height': None,\n",
       "      'url': 'https://i.scdn.co/image/ab67706f00000002d0cf46e396551b8366c3a6fb',\n",
       "      'width': None}],\n",
       "    'name': 'Country Top 50',\n",
       "    'owner': {'display_name': 'Spotify',\n",
       "     'external_urls': {'spotify': 'https://open.spotify.com/user/spotify'},\n",
       "     'href': 'https://api.spotify.com/v1/users/spotify',\n",
       "     'id': 'spotify',\n",
       "     'type': 'user',\n",
       "     'uri': 'spotify:user:spotify'},\n",
       "    'primary_color': '#ffffff',\n",
       "    'public': True,\n",
       "    'snapshot_id': 'ZjvM2wAAAAAtZgYr5Q6MbKR4+t7twB5U',\n",
       "    'tracks': {'href': 'https://api.spotify.com/v1/playlists/37i9dQZF1DX7aUUBCKwo4Y/tracks',\n",
       "     'total': 50},\n",
       "    'type': 'playlist',\n",
       "    'uri': 'spotify:playlist:37i9dQZF1DX7aUUBCKwo4Y'},\n",
       "   {'collaborative': False,\n",
       "    'description': 'iykyk',\n",
       "    'external_urls': {'spotify': 'https://open.spotify.com/playlist/37i9dQZF1DX5Vy6DFOcx00'},\n",
       "    'href': 'https://api.spotify.com/v1/playlists/37i9dQZF1DX5Vy6DFOcx00',\n",
       "    'id': '37i9dQZF1DX5Vy6DFOcx00',\n",
       "    'images': [{'height': None,\n",
       "      'url': 'https://i.scdn.co/image/ab67706f000000021c9bfca9b2fd2f546a30f751',\n",
       "      'width': None}],\n",
       "    'name': 'big on the internet',\n",
       "    'owner': {'display_name': 'Spotify',\n",
       "     'external_urls': {'spotify': 'https://open.spotify.com/user/spotify'},\n",
       "     'href': 'https://api.spotify.com/v1/users/spotify',\n",
       "     'id': 'spotify',\n",
       "     'type': 'user',\n",
       "     'uri': 'spotify:user:spotify'},\n",
       "    'primary_color': '#ffffff',\n",
       "    'public': True,\n",
       "    'snapshot_id': 'Zjvd0QAAAADN1qc0YULwfC0lSceR1lYK',\n",
       "    'tracks': {'href': 'https://api.spotify.com/v1/playlists/37i9dQZF1DX5Vy6DFOcx00/tracks',\n",
       "     'total': 50},\n",
       "    'type': 'playlist',\n",
       "    'uri': 'spotify:playlist:37i9dQZF1DX5Vy6DFOcx00'},\n",
       "   {'collaborative': False,\n",
       "    'description': '¡Las más placosas y llegadoras de nuestra música! Al millón con Luis R Conriquez, Netón Vega',\n",
       "    'external_urls': {'spotify': 'https://open.spotify.com/playlist/37i9dQZF1DX905zIRtblN3'},\n",
       "    'href': 'https://api.spotify.com/v1/playlists/37i9dQZF1DX905zIRtblN3',\n",
       "    'id': '37i9dQZF1DX905zIRtblN3',\n",
       "    'images': [{'height': None,\n",
       "      'url': 'https://i.scdn.co/image/ab67706f000000029765cc0ee0cab2713cf7aa5e',\n",
       "      'width': None}],\n",
       "    'name': 'La Reina: Éxitos de la Música Mexicana',\n",
       "    'owner': {'display_name': 'Spotify',\n",
       "     'external_urls': {'spotify': 'https://open.spotify.com/user/spotify'},\n",
       "     'href': 'https://api.spotify.com/v1/users/spotify',\n",
       "     'id': 'spotify',\n",
       "     'type': 'user',\n",
       "     'uri': 'spotify:user:spotify'},\n",
       "    'primary_color': '#ffffff',\n",
       "    'public': True,\n",
       "    'snapshot_id': 'ZjR9YAAAAADYVbJxuLjOgNF8GDgc9th1',\n",
       "    'tracks': {'href': 'https://api.spotify.com/v1/playlists/37i9dQZF1DX905zIRtblN3/tracks',\n",
       "     'total': 50},\n",
       "    'type': 'playlist',\n",
       "    'uri': 'spotify:playlist:37i9dQZF1DX905zIRtblN3'},\n",
       "   {'collaborative': False,\n",
       "    'description': 'Peaceful piano to help you slow down, breathe, and relax. ',\n",
       "    'external_urls': {'spotify': 'https://open.spotify.com/playlist/37i9dQZF1DX4sWSpwq3LiO'},\n",
       "    'href': 'https://api.spotify.com/v1/playlists/37i9dQZF1DX4sWSpwq3LiO',\n",
       "    'id': '37i9dQZF1DX4sWSpwq3LiO',\n",
       "    'images': [{'height': None,\n",
       "      'url': 'https://i.scdn.co/image/ab67706f00000002d073e656e546e43bc387ad79',\n",
       "      'width': None}],\n",
       "    'name': 'Peaceful Piano',\n",
       "    'owner': {'display_name': 'Spotify',\n",
       "     'external_urls': {'spotify': 'https://open.spotify.com/user/spotify'},\n",
       "     'href': 'https://api.spotify.com/v1/users/spotify',\n",
       "     'id': 'spotify',\n",
       "     'type': 'user',\n",
       "     'uri': 'spotify:user:spotify'},\n",
       "    'primary_color': '#ffffff',\n",
       "    'public': True,\n",
       "    'snapshot_id': 'ZjoE2QAAAAA92YZnvU8u7IhDhqGR+zJZ',\n",
       "    'tracks': {'href': 'https://api.spotify.com/v1/playlists/37i9dQZF1DX4sWSpwq3LiO/tracks',\n",
       "     'total': 214},\n",
       "    'type': 'playlist',\n",
       "    'uri': 'spotify:playlist:37i9dQZF1DX4sWSpwq3LiO'},\n",
       "   {'collaborative': False,\n",
       "    'description': 'The country that made country cool. Cover: Toby Keith',\n",
       "    'external_urls': {'spotify': 'https://open.spotify.com/playlist/37i9dQZF1DWVpjAJGB70vU'},\n",
       "    'href': 'https://api.spotify.com/v1/playlists/37i9dQZF1DWVpjAJGB70vU',\n",
       "    'id': '37i9dQZF1DWVpjAJGB70vU',\n",
       "    'images': [{'height': None,\n",
       "      'url': 'https://i.scdn.co/image/ab67706f000000020669cf2869b6664e47327ac4',\n",
       "      'width': None}],\n",
       "    'name': '90s Country',\n",
       "    'owner': {'display_name': 'Spotify',\n",
       "     'external_urls': {'spotify': 'https://open.spotify.com/user/spotify'},\n",
       "     'href': 'https://api.spotify.com/v1/users/spotify',\n",
       "     'id': 'spotify',\n",
       "     'type': 'user',\n",
       "     'uri': 'spotify:user:spotify'},\n",
       "    'primary_color': '#ffffff',\n",
       "    'public': True,\n",
       "    'snapshot_id': 'ZeeS+wAAAAAL5JpenmM2UFuyvkemZXjR',\n",
       "    'tracks': {'href': 'https://api.spotify.com/v1/playlists/37i9dQZF1DWVpjAJGB70vU/tracks',\n",
       "     'total': 150},\n",
       "    'type': 'playlist',\n",
       "    'uri': 'spotify:playlist:37i9dQZF1DWVpjAJGB70vU'},\n",
       "   {'collaborative': False,\n",
       "    'description': 'Fourth quarter, two minutes left .. get locked in. Cover: Jalen Brunson and Josh Hart',\n",
       "    'external_urls': {'spotify': 'https://open.spotify.com/playlist/37i9dQZF1DWTl4y3vgJOXW'},\n",
       "    'href': 'https://api.spotify.com/v1/playlists/37i9dQZF1DWTl4y3vgJOXW',\n",
       "    'id': '37i9dQZF1DWTl4y3vgJOXW',\n",
       "    'images': [{'height': None,\n",
       "      'url': 'https://i.scdn.co/image/ab67706f0000000290266d99deebf93798b36555',\n",
       "      'width': None}],\n",
       "    'name': 'Locked In',\n",
       "    'owner': {'display_name': 'Spotify',\n",
       "     'external_urls': {'spotify': 'https://open.spotify.com/user/spotify'},\n",
       "     'href': 'https://api.spotify.com/v1/users/spotify',\n",
       "     'id': 'spotify',\n",
       "     'type': 'user',\n",
       "     'uri': 'spotify:user:spotify'},\n",
       "    'primary_color': '#ffffff',\n",
       "    'public': True,\n",
       "    'snapshot_id': 'Zjw5CgAAAABD6sUwIzN0NOtUvwmN0/2E',\n",
       "    'tracks': {'href': 'https://api.spotify.com/v1/playlists/37i9dQZF1DWTl4y3vgJOXW/tracks',\n",
       "     'total': 92},\n",
       "    'type': 'playlist',\n",
       "    'uri': 'spotify:playlist:37i9dQZF1DWTl4y3vgJOXW'},\n",
       "   {'collaborative': False,\n",
       "    'description': 'the beat of your drift',\n",
       "    'external_urls': {'spotify': 'https://open.spotify.com/playlist/37i9dQZF1DWWY64wDtewQt'},\n",
       "    'href': 'https://api.spotify.com/v1/playlists/37i9dQZF1DWWY64wDtewQt',\n",
       "    'id': '37i9dQZF1DWWY64wDtewQt',\n",
       "    'images': [{'height': None,\n",
       "      'url': 'https://i.scdn.co/image/ab67706f000000024691f7100f5f2cf40d0b3cc9',\n",
       "      'width': None}],\n",
       "    'name': 'phonk',\n",
       "    'owner': {'display_name': 'Spotify',\n",
       "     'external_urls': {'spotify': 'https://open.spotify.com/user/spotify'},\n",
       "     'href': 'https://api.spotify.com/v1/users/spotify',\n",
       "     'id': 'spotify',\n",
       "     'type': 'user',\n",
       "     'uri': 'spotify:user:spotify'},\n",
       "    'primary_color': '#ffffff',\n",
       "    'public': True,\n",
       "    'snapshot_id': 'ZjUKAAAAAAD2UVap0hpVWzEp1Sz++NT4',\n",
       "    'tracks': {'href': 'https://api.spotify.com/v1/playlists/37i9dQZF1DWWY64wDtewQt/tracks',\n",
       "     'total': 100},\n",
       "    'type': 'playlist',\n",
       "    'uri': 'spotify:playlist:37i9dQZF1DWWY64wDtewQt'},\n",
       "   {'collaborative': False,\n",
       "    'description': 'The biggest songs of the 1980s. Cover: Bonnie Tyler.',\n",
       "    'external_urls': {'spotify': 'https://open.spotify.com/playlist/37i9dQZF1DX4UtSsGT1Sbe'},\n",
       "    'href': 'https://api.spotify.com/v1/playlists/37i9dQZF1DX4UtSsGT1Sbe',\n",
       "    'id': '37i9dQZF1DX4UtSsGT1Sbe',\n",
       "    'images': [{'height': None,\n",
       "      'url': 'https://i.scdn.co/image/ab67706f00000002fe154a455809e72e4d854880',\n",
       "      'width': None}],\n",
       "    'name': 'All Out 80s',\n",
       "    'owner': {'display_name': 'Spotify',\n",
       "     'external_urls': {'spotify': 'https://open.spotify.com/user/spotify'},\n",
       "     'href': 'https://api.spotify.com/v1/users/spotify',\n",
       "     'id': 'spotify',\n",
       "     'type': 'user',\n",
       "     'uri': 'spotify:user:spotify'},\n",
       "    'primary_color': '#ffffff',\n",
       "    'public': True,\n",
       "    'snapshot_id': 'ZjuSrAAAAAAu+rjR96nZYLQTOFAmO5I0',\n",
       "    'tracks': {'href': 'https://api.spotify.com/v1/playlists/37i9dQZF1DX4UtSsGT1Sbe/tracks',\n",
       "     'total': 150},\n",
       "    'type': 'playlist',\n",
       "    'uri': 'spotify:playlist:37i9dQZF1DX4UtSsGT1Sbe'}],\n",
       "  'limit': 20,\n",
       "  'next': 'https://api.spotify.com/v1/browse/featured-playlists?offset=20&limit=20',\n",
       "  'offset': 0,\n",
       "  'previous': None,\n",
       "  'total': 100}}"
      ]
     },
     "execution_count": 60,
     "metadata": {},
     "output_type": "execute_result"
    }
   ],
   "source": [
    "sp.featured_playlists() # We get a playlist id of a playlist we like"
   ]
  },
  {
   "cell_type": "markdown",
   "id": "90f558f3-c638-4df4-b5a4-e24f7847d52a",
   "metadata": {},
   "source": [
    "### Getting a Playlist's Details\n",
    "To fetch details about a specific playlist, you can use the playlist method. You'll need the playlist's Spotify ID."
   ]
  },
  {
   "cell_type": "markdown",
   "id": "0eef529f-617f-4ea3-8156-07472ac8e6d5",
   "metadata": {},
   "source": [
    "In this example, we will use the following playlist id: *37i9dQZF1DXd9zR7tdziuQ*"
   ]
  },
  {
   "cell_type": "code",
   "execution_count": 61,
   "id": "46d35121-9256-4cf4-81f5-118b87f7af32",
   "metadata": {},
   "outputs": [],
   "source": [
    "playlist_id = \"37i9dQZF1DXd9zR7tdziuQ\"\n",
    "playlist = sp.playlist(playlist_id)"
   ]
  },
  {
   "cell_type": "code",
   "execution_count": 62,
   "id": "5260f67f-6024-4fee-8449-30904f03bf76",
   "metadata": {},
   "outputs": [
    {
     "name": "stdout",
     "output_type": "stream",
     "text": [
      "Hits acústicos\n",
      "Relájate con tus canciones favoritas en versión acústica / Descontrai com versões acústicas das tuas músicas preferidas.\n"
     ]
    }
   ],
   "source": [
    "print(playlist['name'])  # Print the playlist's name\n",
    "print(playlist['description'])  # Print the playlist's description"
   ]
  },
  {
   "cell_type": "markdown",
   "id": "13bc8631-69f0-4b98-9cc9-5baecbaea9ba",
   "metadata": {},
   "source": [
    "### Getting Tracks from a Playlist\n",
    "If you want to get the tracks from a specific playlist, you can use the playlist_tracks method."
   ]
  },
  {
   "cell_type": "code",
   "execution_count": 63,
   "id": "69c78f8d-7e6a-4d15-bcbb-fc93edb82433",
   "metadata": {},
   "outputs": [
    {
     "name": "stdout",
     "output_type": "stream",
     "text": [
      "Take Me Home, Country Roads\n",
      "La Vie En Rose\n",
      "You Are My Sunshine\n",
      "True Colours\n",
      "Sunday Morning - Acoustic\n",
      "Too Good At Goodbyes - Acoustic\n",
      "I'm Not the Only One - Live from Spotify, London\n",
      "Cold Heart - Acoustic\n",
      "September Song - Guitar Acoustic\n",
      "Collide - Acoustic Version\n",
      "Baby One More Time - Recorded at Spotify Studios New York City\n",
      "If You Ever Wanna Be In Love - James Bay Spotify Session 2015\n",
      "When You Love Someone - Acoustic\n",
      "Rockabye - Acoustic Version\n",
      "Ain't Nobody (Loves Me Better) - Acoustic\n",
      "Little Talks\n",
      "Shape of You - Acoustic\n",
      "Blinding Lights\n",
      "Something Just Like This - Acoustic\n",
      "Linger\n",
      "What About Us - Acoustic\n",
      "Wild Love - Acoustic\n",
      "Naked - Acoustic Version\n",
      "1973 - Acoustic\n",
      "Perfect - Acoustic\n",
      "Billie Jean\n",
      "Fix You - Live\n",
      "Let It Go - James Bay Spotify Session 2015\n",
      "Heaven Is a Place on Earth\n",
      "Can't Help Falling in Love\n",
      "Crazy in Love\n",
      "Firestone - Live Acoustic Version\n",
      "Chasing Cars\n",
      "Price Tag - Acoustic Version\n",
      "Slow Dancing in a Burning Room - Acoustic\n",
      "Dancing On My Own - Acoustic\n",
      "Summertime Sadness (Acoustic Cover) feat. Keelan Donovan\n",
      "Another Love - Live from Spotify (SXSW)\n",
      "Halo\n",
      "Ordinary World\n",
      "Girls Just Wanna Have Fun - Acoustic\n",
      "We Can't Stop - Acoustic\n",
      "Kiss Me - AOL Sessions Acoustic Version\n",
      "All of Me - Live from Spotify Milan\n",
      "Hey Ya - solo version\n",
      "It Aint me - Acoustic\n",
      "Have You Ever Seen The Rain - Recorded at Electric Lady Studios NYC\n",
      "IDGAF - Acoustic\n",
      "Bizarre Love Triangle - 2014 Remaster\n",
      "Mad World - Recorded at Metropolis Studios, London\n",
      "Too Much To Ask - Acoustic\n",
      "Chandelier - Live from The Village\n",
      "New Rules - Acoustic\n",
      "Don't Wanna Know - Acoustic Version\n",
      "Wild World - Acoustic Version\n",
      "City of Stars\n",
      "I Kissed a Girl\n",
      "Bad Day - Acoustic\n",
      "Landslide\n",
      "Pretty Girl - Acoustic Version\n",
      "Unchained Melody\n",
      "U Remind Me - Recorded at Spotify Studios NYC\n",
      "Rhythm Inside - Acoustic\n",
      "Sex On Fire\n",
      "I Wanna Dance with Somebody\n",
      "When Doves Cry - Recorded At Spotify Studios NYC\n",
      "Cold Water\n",
      "Creep\n",
      "Stitches\n",
      "Over the Rainbow\n",
      "Umbrella - Acoustic Version\n",
      "Your Song - Acoustic\n",
      "2U - Acoustic Version\n",
      "Please Keep Loving Me - Acoustic\n",
      "Shallow\n",
      "Silence\n",
      "I'm the One - Acoustic\n",
      "Brandy (You're a Fine Girl)\n",
      "Nervous - Acoustic\n",
      "She's On My Mind - Guitar Acoustic\n",
      "Crazy - Live Sessions\n",
      "Shut up and Dance\n",
      "Starboy - Acoustic\n",
      "Sugar - Acoustic\n",
      "Stay\n",
      "Dancing in the Moonlight - Acoustic Version\n",
      "How to Save a Life - Live in Nashville, TN - December 2006\n",
      "XO\n",
      "Send My Love (To Your New Lover) - Live\n",
      "Maps\n",
      "Closer\n",
      "Once In a While - Acoustic\n",
      "Lot To Learn\n",
      "Scars To Your Beautiful\n",
      "Perfect Strangers - Acoustic\n",
      "There's Nothing Holdin Me Back\n",
      "New Rules\n",
      "Hello\n",
      "Thunder\n",
      "High and Dry\n"
     ]
    }
   ],
   "source": [
    "tracks = sp.playlist_tracks(playlist_id)\n",
    "for track in tracks['items']:\n",
    "    print(track['track']['name'])  # Print each track's name"
   ]
  },
  {
   "cell_type": "markdown",
   "id": "2775714d-acc7-4555-96bd-2c541ab0855e",
   "metadata": {},
   "source": [
    "### Getting Artists from a Playlist\n",
    "\n",
    "To extract all the artists from the tracks in a playlist, you'd typically follow these steps:\n",
    "\n",
    "1. Fetch the playlist's tracks.\n",
    "2. Iterate through each track.\n",
    "3. For each track, extract the associated artists."
   ]
  },
  {
   "cell_type": "code",
   "execution_count": 64,
   "id": "65c5e5c4-f186-42c6-b136-4ef02b0b01ff",
   "metadata": {},
   "outputs": [
    {
     "name": "stdout",
     "output_type": "stream",
     "text": [
      "['Lana Del Rey', 'Daniela Andrade', 'Jasmine Thompson', 'Tom Odell', 'Maroon 5', 'Sam Smith', 'Dua Lipa', 'Elton John', 'JP Cooper', 'Howie Day', 'Ed Sheeran', 'James Bay', 'James TW', 'The Mayries', 'Julia Sheer', 'Jon D', 'Ouvindo', 'Missy & Blonde', 'Julia Ross', 'Freedom Fry', 'Thomas Daniel', 'James Arthur', 'James Blunt', 'The Civil Wars', 'Kacey Musgraves', 'Kygo', 'Conrad Sewell', 'The Wind and The Wave', 'Jessie J', 'John Mayer', 'Calum Scott', 'Megan Davies', 'Keelan Donovan', 'Lotte Kestner', 'Joy Williams', 'Halloran & Kate', 'Sixpence None The Richer', 'John Legend', 'Obadiah Parker', 'Sara Farell', 'The Lumineers', 'Frente!', 'Lily Allen', 'Niall Horan', 'Sia', 'Joanna Wang', 'Gavin James', 'William Fitzsimmons', 'Daniel Powter', 'Molly Parden', 'Hollow Hum', 'Becca Adams', 'Lykke Li', 'Alex Cornell', 'Rachel Brown', 'Sarah Jarosz', 'Kyle Nachtigal', 'Arlo Parks', 'Jaclyn Davies', \"Israel Kamakawiwo'ole\", 'Rita Ora', 'Clementine Duo', 'The Hound + The Fox', 'Reggii', 'Sunset & Highland', 'Catey Shaw', 'Madilyn Bailey', 'Leroy Sanchez', 'Anchor + Bell', 'Simon Samaeng', 'Francesco Yates', 'Isabella Celander', 'Toploader', 'The Fray', 'Anna Elizabeth Laube', \"I'm With Her\", 'Paul Kowert', 'Colin & Caroline', 'Tore', 'Timeflies', 'Vivid Color', 'Jonas Blue', 'Q.Z.B', 'Erato', 'The Freed']\n"
     ]
    }
   ],
   "source": [
    "# List to store unique artist names\n",
    "artists_list = []\n",
    "\n",
    "for track_item in tracks['items']:\n",
    "    track = track_item['track']\n",
    "    for artist in track['artists']:\n",
    "        artist_name = artist['name']\n",
    "        if artist_name not in artists_list:  # This ensures each artist is added only once\n",
    "            artists_list.append(artist_name)\n",
    "\n",
    "print(artists_list)"
   ]
  },
  {
   "cell_type": "markdown",
   "id": "7b52207e-a4f0-4f90-9f4e-3170d7f0f3fe",
   "metadata": {},
   "source": [
    "## Exercise 2: Unraveling the World of Playlists\n",
    "\n",
    "\n",
    "1. **Featured Exploration**: \n",
    "   - Fetch the list of Spotify's current featured playlists. \n",
    "   - Extract and display the names and IDs of the top 5 featured playlists.\n"
   ]
  },
  {
   "cell_type": "code",
   "execution_count": 65,
   "id": "ed92d961-9646-4375-a386-ccc320a958f5",
   "metadata": {},
   "outputs": [
    {
     "name": "stdout",
     "output_type": "stream",
     "text": [
      "Playlist: RapCaviar\n",
      "Playlist ID: 37i9dQZF1DX0XUsuxWHRQd\n",
      "\n",
      "Playlist: Today’s Top Hits\n",
      "Playlist ID: 37i9dQZF1DXcBWIGoYBM5M\n",
      "\n",
      "Playlist: Hot Country\n",
      "Playlist ID: 37i9dQZF1DX1lVhptIYRda\n",
      "\n",
      "Playlist: Hot Hits USA\n",
      "Playlist ID: 37i9dQZF1DX0kbJZpiYdZl\n",
      "\n",
      "Playlist: This Is Taylor Swift\n",
      "Playlist ID: 37i9dQZF1DX5KpP2LN299J\n",
      "\n"
     ]
    }
   ],
   "source": [
    "# Your answer here\n",
    "featured_playlists = sp.featured_playlists(limit=5)\n",
    "# Extrair nomes e IDs das playlists em destaque\n",
    "top_featured_playlists = [(playlist['name'], playlist['id']) for playlist in featured_playlists['playlists']['items'][:5]]\n",
    "\n",
    "# Exibir os nomes e IDs das top 5 playlists em destaque\n",
    "for name, playlist_id in top_featured_playlists:\n",
    "    print(\"Playlist:\", name)\n",
    "    print(\"Playlist ID:\", playlist_id)\n",
    "    print()"
   ]
  },
  {
   "cell_type": "markdown",
   "id": "554fcf5a",
   "metadata": {},
   "source": [
    "   \n",
    "2. **Deep Dive**:\n",
    "   - Choose any one of the top 5 featured playlists (you can choose the one you personally find most interesting or simply pick one randomly).\n",
    "   - Fetch and display its name, description, and total track count.\n"
   ]
  },
  {
   "cell_type": "code",
   "execution_count": 84,
   "id": "107c720f",
   "metadata": {},
   "outputs": [
    {
     "name": "stdout",
     "output_type": "stream",
     "text": [
      "Nome da Playlist: Today’s Top Hits\n",
      "Descrição: Sabrina Carpenter is on top of the Hottest 50!\n",
      "Número Total de Faixas: 50\n"
     ]
    }
   ],
   "source": [
    "# Escolher uma playlist em destaque (substitua 'playlist_id' pelo ID da playlist que você escolher)\n",
    "chosen_playlist_id = '37i9dQZF1DXcBWIGoYBM5M'\n",
    "\n",
    "# Obter informações detalhadas sobre a playlist escolhida\n",
    "chosen_playlist = sp.playlist(chosen_playlist_id)\n",
    "\n",
    "# display(chosen_playlist['tracks'].keys())\n",
    "\n",
    "# Exibir nome, descrição e número total de faixas da playlist escolhida\n",
    "print(\"Nome da Playlist:\", chosen_playlist['name'])\n",
    "print(\"Descrição:\", chosen_playlist['description'])\n",
    "print(\"Número Total de Faixas:\", chosen_playlist['tracks']['total'])\n"
   ]
  },
  {
   "cell_type": "markdown",
   "id": "b18ec08d",
   "metadata": {},
   "source": [
    "\n",
    "3. **Track-tastic**:\n",
    "   - Extract and display the names of the first 10 tracks in the chosen playlist.\n"
   ]
  },
  {
   "cell_type": "code",
   "execution_count": 87,
   "id": "b3f2b54b",
   "metadata": {},
   "outputs": [
    {
     "data": {
      "text/plain": [
       "list"
      ]
     },
     "metadata": {},
     "output_type": "display_data"
    },
    {
     "name": "stdout",
     "output_type": "stream",
     "text": [
      "Nomes das Faixas:\n",
      "- Espresso\n",
      "- Fortnight (feat. Post Malone)\n",
      "- Beautiful Things\n",
      "- i like the way you kiss me\n",
      "- Too Sweet\n",
      "- we can't be friends (wait for your love)\n",
      "- A Bar Song (Tipsy)\n",
      "- End of Beginning\n",
      "- Saturn\n",
      "- greedy\n"
     ]
    }
   ],
   "source": [
    "# Extrair nomes das primeiras 10 faixas da playlist escolhida\n",
    "# display(type(chosen_playlist['tracks']['items']))\n",
    "tracks = chosen_playlist['tracks']['items'][:10]\n",
    "track_names = [track['track']['name'] for track in tracks]\n",
    "\n",
    "# Exibir os nomes das faixas\n",
    "print(\"Nomes das Faixas:\")\n",
    "for name in track_names:\n",
    "    print(\"-\", name)"
   ]
  },
  {
   "cell_type": "markdown",
   "id": "005020d8",
   "metadata": {},
   "source": [
    "\n",
    "4. **Artistic Flair**:\n",
    "   - Create a dictionary where the keys are the names of the first 10 tracks, and the values are lists containing the names of the artists associated with each track.\n",
    "   - For example: `{\"TrackName1\": [\"Artist1\", \"Artist2\"], \"TrackName2\": [\"Artist3\"]}`\n",
    "   "
   ]
  },
  {
   "cell_type": "code",
   "execution_count": 112,
   "id": "c68b1e36",
   "metadata": {},
   "outputs": [
    {
     "name": "stdout",
     "output_type": "stream",
     "text": [
      "Dicionário de Faixas e Artistas:\n",
      "{'Espresso': ['Sabrina Carpenter'], 'Fortnight (feat. Post Malone)': ['Taylor Swift', 'Post Malone'], 'Beautiful Things': ['Benson Boone'], 'i like the way you kiss me': ['Artemas'], 'Too Sweet': ['Hozier'], \"we can't be friends (wait for your love)\": ['Ariana Grande'], 'A Bar Song (Tipsy)': ['Shaboozey'], 'End of Beginning': ['Djo'], 'Saturn': ['SZA'], 'greedy': ['Tate McRae']}\n"
     ]
    },
    {
     "data": {
      "text/plain": [
       "dict_keys(['preview_url', 'available_markets', 'explicit', 'type', 'episode', 'track', 'album', 'artists', 'disc_number', 'track_number', 'duration_ms', 'external_ids', 'external_urls', 'href', 'id', 'name', 'popularity', 'uri', 'is_local'])"
      ]
     },
     "metadata": {},
     "output_type": "display_data"
    },
    {
     "data": {
      "text/plain": [
       "{'external_urls': {'spotify': 'https://open.spotify.com/artist/74KM79TiuVKeVCqs8QtB0B'},\n",
       " 'href': 'https://api.spotify.com/v1/artists/74KM79TiuVKeVCqs8QtB0B',\n",
       " 'id': '74KM79TiuVKeVCqs8QtB0B',\n",
       " 'name': 'Sabrina Carpenter',\n",
       " 'type': 'artist',\n",
       " 'uri': 'spotify:artist:74KM79TiuVKeVCqs8QtB0B'}"
      ]
     },
     "metadata": {},
     "output_type": "display_data"
    }
   ],
   "source": [
    "# featured_playlists = sp.featured_playlists(limit=5)\n",
    "# display(featured_playlists['playlists']['items'][0].keys())\n",
    "\n",
    "# Criar dicionário com nomes das faixas e artistas associados\n",
    "track_artists_dict = {}\n",
    "for track in tracks:\n",
    "    track_name = track['track']['name']\n",
    "    artists = [artist['name'] for artist in track['track']['artists']]\n",
    "    track_artists_dict[track_name] = artists\n",
    "\n",
    "# Exibir o dicionário\n",
    "print(\"Dicionário de Faixas e Artistas:\")\n",
    "print(track_artists_dict)\n",
    "\n",
    "# display(tracks[0]['track'].keys())\n",
    "# display(tracks[0]['track']['artists'][0])"
   ]
  }
 ],
 "metadata": {
  "kernelspec": {
   "display_name": "Python 3 (ipykernel)",
   "language": "python",
   "name": "python3"
  },
  "language_info": {
   "codemirror_mode": {
    "name": "ipython",
    "version": 3
   },
   "file_extension": ".py",
   "mimetype": "text/x-python",
   "name": "python",
   "nbconvert_exporter": "python",
   "pygments_lexer": "ipython3",
   "version": "3.11.7"
  }
 },
 "nbformat": 4,
 "nbformat_minor": 5
}
